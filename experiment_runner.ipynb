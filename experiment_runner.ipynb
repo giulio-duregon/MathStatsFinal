{
 "cells": [
  {
   "cell_type": "code",
   "execution_count": null,
   "metadata": {
    "collapsed": true
   },
   "outputs": [],
   "source": [
    "from biasvariancetradeoff.random_forest import ExperimentRunner, RandomForestWrapper\n",
    "from biasvariancetradeoff.data import get_test, get_train"
   ]
  },
  {
   "cell_type": "code",
   "execution_count": null,
   "outputs": [],
   "source": [
    "# Get Data\n",
    "test_data = get_test()\n",
    "train_data = get_train()\n"
   ],
   "metadata": {
    "collapsed": false
   }
  },
  {
   "cell_type": "code",
   "execution_count": null,
   "outputs": [],
   "source": [
    "# Initialize Parameters\n",
    "paper_params = [{\"max_leaf_nodes\":50, \"num_estimators\":1},\n",
    "                {\"max_leaf_nodes\":80, \"num_estimators\":1},\n",
    "                {\"max_leaf_nodes\":100, \"num_estimators\":1},\n",
    "                {\"max_leaf_nodes\":120, \"num_estimators\":1},\n",
    "               {\"max_leaf_nodes\":160, \"num_estimators\":1},\n",
    "               {\"max_leaf_nodes\":180, \"num_estimators\":1},\n",
    "               {\"max_leaf_nodes\":200, \"num_estimators\":1},\n",
    "               {\"max_leaf_nodes\":300, \"num_estimators\":1},\n",
    "               {\"max_leaf_nodes\":400, \"num_estimators\":1},\n",
    "               {\"max_leaf_nodes\":500, \"num_estimators\":1},\n",
    "               {\"max_leaf_nodes\":800, \"num_estimators\":1},\n",
    "               {\"max_leaf_nodes\":1000, \"num_estimators\":1},\n",
    "               {\"max_leaf_nodes\":2000, \"num_estimators\":1},\n",
    "               {\"max_leaf_nodes\":2000, \"num_estimators\":2},\n",
    "               {\"max_leaf_nodes\":2000, \"num_estimators\":4},\n",
    "               {\"max_leaf_nodes\":2000, \"num_estimators\":8},\n",
    "                {\"max_leaf_nodes\":4000, \"num_estimators\":16},]\n",
    "\n",
    "# Instantiate Experiment Runner\n",
    "runner = ExperimentRunner(RandomForestWrapper, paper_params, train_data, test_data)"
   ],
   "metadata": {
    "collapsed": false
   }
  },
  {
   "cell_type": "code",
   "execution_count": null,
   "outputs": [],
   "source": [
    "# Run Experiments\n",
    "runner.run()"
   ],
   "metadata": {
    "collapsed": false
   }
  },
  {
   "cell_type": "code",
   "execution_count": null,
   "outputs": [],
   "source": [
    "# Plot Losses\n",
    "runner.plot_square_loss()"
   ],
   "metadata": {
    "collapsed": false
   }
  },
  {
   "cell_type": "code",
   "execution_count": null,
   "outputs": [],
   "source": [
    "runner.plot_zero_one_loss()"
   ],
   "metadata": {
    "collapsed": false
   }
  },
  {
   "cell_type": "code",
   "execution_count": null,
   "outputs": [],
   "source": [
    "runner.results_to_csv()"
   ],
   "metadata": {
    "collapsed": false
   }
  }
 ],
 "metadata": {
  "kernelspec": {
   "display_name": "Python 3",
   "language": "python",
   "name": "python3"
  },
  "language_info": {
   "codemirror_mode": {
    "name": "ipython",
    "version": 2
   },
   "file_extension": ".py",
   "mimetype": "text/x-python",
   "name": "python",
   "nbconvert_exporter": "python",
   "pygments_lexer": "ipython2",
   "version": "2.7.6"
  }
 },
 "nbformat": 4,
 "nbformat_minor": 0
}
