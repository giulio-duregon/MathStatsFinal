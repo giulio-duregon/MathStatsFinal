{
 "cells": [
  {
   "cell_type": "code",
   "execution_count": 1,
   "metadata": {
    "collapsed": true
   },
   "outputs": [],
   "source": [
    "from biasvariancetradeoff.random_forest import ExperimentRunner, RandomForestWrapper\n",
    "from biasvariancetradeoff.data import get_test, get_train"
   ]
  },
  {
   "cell_type": "code",
   "execution_count": 2,
   "outputs": [],
   "source": [
    "# Get Data\n",
    "test_data = get_test()\n",
    "train_data = get_train()\n"
   ],
   "metadata": {
    "collapsed": false
   }
  },
  {
   "cell_type": "code",
   "execution_count": 3,
   "outputs": [],
   "source": [
    "x_test, y_test = test_data"
   ],
   "metadata": {
    "collapsed": false
   }
  },
  {
   "cell_type": "code",
   "execution_count": 4,
   "outputs": [],
   "source": [
    "row = y_test[0]"
   ],
   "metadata": {
    "collapsed": false
   }
  },
  {
   "cell_type": "code",
   "execution_count": 5,
   "outputs": [
    {
     "data": {
      "text/plain": "7"
     },
     "execution_count": 5,
     "metadata": {},
     "output_type": "execute_result"
    }
   ],
   "source": [
    "row.argmax()"
   ],
   "metadata": {
    "collapsed": false
   }
  },
  {
   "cell_type": "code",
   "execution_count": 6,
   "outputs": [],
   "source": [
    "# Initialize Parameters\n",
    "paper_params = [{\"max_leaf_nodes\":50, \"num_estimators\":1},\n",
    "                {\"max_leaf_nodes\":60, \"num_estimators\":1},\n",
    "                {\"max_leaf_nodes\":70, \"num_estimators\":1},\n",
    "                {\"max_leaf_nodes\":80, \"num_estimators\":1},\n",
    "                {\"max_leaf_nodes\":90, \"num_estimators\":1},\n",
    "                {\"max_leaf_nodes\":100, \"num_estimators\":1},\n",
    "                {\"max_leaf_nodes\":120, \"num_estimators\":1},\n",
    "                {\"max_leaf_nodes\":140, \"num_estimators\":1},\n",
    "               {\"max_leaf_nodes\":160, \"num_estimators\":1},\n",
    "               {\"max_leaf_nodes\":180, \"num_estimators\":1},\n",
    "               {\"max_leaf_nodes\":200, \"num_estimators\":1},\n",
    "               {\"max_leaf_nodes\":250, \"num_estimators\":1},\n",
    "               {\"max_leaf_nodes\":300, \"num_estimators\":1},\n",
    "               {\"max_leaf_nodes\":350, \"num_estimators\":1},\n",
    "               {\"max_leaf_nodes\":400, \"num_estimators\":1},\n",
    "               {\"max_leaf_nodes\":500, \"num_estimators\":1},\n",
    "               {\"max_leaf_nodes\":600, \"num_estimators\":1},\n",
    "               {\"max_leaf_nodes\":700, \"num_estimators\":1},\n",
    "               {\"max_leaf_nodes\":800, \"num_estimators\":1},\n",
    "               {\"max_leaf_nodes\":900, \"num_estimators\":1},\n",
    "               {\"max_leaf_nodes\":1000, \"num_estimators\":1},\n",
    "               {\"max_leaf_nodes\":2000, \"num_estimators\":1},\n",
    "               {\"max_leaf_nodes\":2000, \"num_estimators\":2},\n",
    "               {\"max_leaf_nodes\":2000, \"num_estimators\":4},\n",
    "               {\"max_leaf_nodes\":2000, \"num_estimators\":8},\n",
    "               {\"max_leaf_nodes\":2000, \"num_estimators\":16},\n",
    "                {\"max_leaf_nodes\":4000, \"num_estimators\":16},]\n",
    "\n",
    "# Instantiate Experiment Runner\n",
    "runner = ExperimentRunner(RandomForestWrapper, paper_params, train_data, test_data)"
   ],
   "metadata": {
    "collapsed": false
   }
  },
  {
   "cell_type": "code",
   "execution_count": null,
   "outputs": [
    {
     "name": "stdout",
     "output_type": "stream",
     "text": [
      "Function: train, Time Delta: 0.27684807777404785\n",
      "Function: predict, Time Delta: 0.06474995613098145\n",
      "Function: predict, Time Delta: 0.010174989700317383\n",
      "Function: get_loss, Time Delta: 0.0013790130615234375\n",
      "Function: get_loss, Time Delta: 0.024044036865234375\n",
      "Function: get_loss, Time Delta: 0.00162506103515625\n",
      "Function: get_loss, Time Delta: 0.0039958953857421875\n",
      "Function: train, Time Delta: 0.2666611671447754\n",
      "Function: predict, Time Delta: 0.06095099449157715\n",
      "Function: predict, Time Delta: 0.011488914489746094\n",
      "Function: get_loss, Time Delta: 0.0018558502197265625\n",
      "Function: get_loss, Time Delta: 0.023025989532470703\n",
      "Function: get_loss, Time Delta: 0.0009009838104248047\n",
      "Function: get_loss, Time Delta: 0.0037889480590820312\n",
      "Function: train, Time Delta: 0.3035159111022949\n",
      "Function: predict, Time Delta: 0.06471610069274902\n",
      "Function: predict, Time Delta: 0.008985757827758789\n",
      "Function: get_loss, Time Delta: 0.0014939308166503906\n",
      "Function: get_loss, Time Delta: 0.023326873779296875\n",
      "Function: get_loss, Time Delta: 0.001977205276489258\n",
      "Function: get_loss, Time Delta: 0.0038950443267822266\n",
      "Function: train, Time Delta: 0.286135196685791\n",
      "Function: predict, Time Delta: 0.0610806941986084\n",
      "Function: predict, Time Delta: 0.009410858154296875\n",
      "Function: get_loss, Time Delta: 0.0014410018920898438\n",
      "Function: get_loss, Time Delta: 0.023058176040649414\n",
      "Function: get_loss, Time Delta: 0.0021467208862304688\n",
      "Function: get_loss, Time Delta: 0.003798961639404297\n",
      "Function: train, Time Delta: 0.30681800842285156\n",
      "Function: predict, Time Delta: 0.07035684585571289\n",
      "Function: predict, Time Delta: 0.00947880744934082\n",
      "Function: get_loss, Time Delta: 0.0014357566833496094\n",
      "Function: get_loss, Time Delta: 0.023220062255859375\n",
      "Function: get_loss, Time Delta: 0.00044083595275878906\n",
      "Function: get_loss, Time Delta: 0.003915071487426758\n",
      "Function: train, Time Delta: 0.28980207443237305\n",
      "Function: predict, Time Delta: 0.05621910095214844\n",
      "Function: predict, Time Delta: 0.011225223541259766\n",
      "Function: get_loss, Time Delta: 0.002418041229248047\n",
      "Function: get_loss, Time Delta: 0.023328304290771484\n",
      "Function: get_loss, Time Delta: 0.0020270347595214844\n",
      "Function: get_loss, Time Delta: 0.003921031951904297\n",
      "Function: train, Time Delta: 0.32596611976623535\n",
      "Function: predict, Time Delta: 0.05974221229553223\n",
      "Function: predict, Time Delta: 0.010133981704711914\n",
      "Function: get_loss, Time Delta: 0.0014309883117675781\n",
      "Function: get_loss, Time Delta: 0.023344993591308594\n",
      "Function: get_loss, Time Delta: 0.002048015594482422\n",
      "Function: get_loss, Time Delta: 0.003871917724609375\n",
      "Function: train, Time Delta: 0.32686710357666016\n",
      "Function: predict, Time Delta: 0.05777478218078613\n",
      "Function: predict, Time Delta: 0.009116888046264648\n",
      "Function: get_loss, Time Delta: 0.0014579296112060547\n",
      "Function: get_loss, Time Delta: 0.023092031478881836\n",
      "Function: get_loss, Time Delta: 0.00036907196044921875\n",
      "Function: get_loss, Time Delta: 0.003805875778198242\n",
      "Function: train, Time Delta: 0.3481011390686035\n",
      "Function: predict, Time Delta: 0.06377315521240234\n",
      "Function: predict, Time Delta: 0.011608123779296875\n",
      "Function: get_loss, Time Delta: 0.002157926559448242\n",
      "Function: get_loss, Time Delta: 0.024060964584350586\n",
      "Function: get_loss, Time Delta: 0.0020110607147216797\n",
      "Function: get_loss, Time Delta: 0.004180908203125\n",
      "Function: train, Time Delta: 0.34932827949523926\n",
      "Function: predict, Time Delta: 0.06667780876159668\n",
      "Function: predict, Time Delta: 0.01061701774597168\n",
      "Function: get_loss, Time Delta: 0.0018367767333984375\n",
      "Function: get_loss, Time Delta: 0.02411484718322754\n",
      "Function: get_loss, Time Delta: 0.0010151863098144531\n",
      "Function: get_loss, Time Delta: 0.003818035125732422\n",
      "Function: train, Time Delta: 0.36455607414245605\n",
      "Function: predict, Time Delta: 0.05973100662231445\n",
      "Function: predict, Time Delta: 0.008966207504272461\n",
      "Function: get_loss, Time Delta: 0.0014510154724121094\n",
      "Function: get_loss, Time Delta: 0.02415013313293457\n",
      "Function: get_loss, Time Delta: 0.0020439624786376953\n",
      "Function: get_loss, Time Delta: 0.0039479732513427734\n",
      "Function: train, Time Delta: 0.35450196266174316\n",
      "Function: predict, Time Delta: 0.059493064880371094\n",
      "Function: predict, Time Delta: 0.00951385498046875\n",
      "Function: get_loss, Time Delta: 0.001631021499633789\n",
      "Function: get_loss, Time Delta: 0.02413177490234375\n",
      "Function: get_loss, Time Delta: 0.0004489421844482422\n",
      "Function: get_loss, Time Delta: 0.003996849060058594\n",
      "Function: train, Time Delta: 0.3770151138305664\n",
      "Function: predict, Time Delta: 0.07030987739562988\n",
      "Function: predict, Time Delta: 0.013829708099365234\n",
      "Function: get_loss, Time Delta: 0.001445770263671875\n",
      "Function: get_loss, Time Delta: 0.024158000946044922\n",
      "Function: get_loss, Time Delta: 0.0021810531616210938\n",
      "Function: get_loss, Time Delta: 0.0041027069091796875\n",
      "Function: train, Time Delta: 0.37133026123046875\n",
      "Function: predict, Time Delta: 0.06988978385925293\n",
      "Function: predict, Time Delta: 0.011878728866577148\n",
      "Function: get_loss, Time Delta: 0.0015859603881835938\n",
      "Function: get_loss, Time Delta: 0.0250089168548584\n",
      "Function: get_loss, Time Delta: 0.0006730556488037109\n",
      "Function: get_loss, Time Delta: 0.004236936569213867\n",
      "Function: train, Time Delta: 0.39267516136169434\n",
      "Function: predict, Time Delta: 0.08184504508972168\n",
      "Function: predict, Time Delta: 0.00962519645690918\n",
      "Function: get_loss, Time Delta: 0.0014829635620117188\n",
      "Function: get_loss, Time Delta: 0.02352309226989746\n",
      "Function: get_loss, Time Delta: 0.00036406517028808594\n",
      "Function: get_loss, Time Delta: 0.003957986831665039\n",
      "Function: train, Time Delta: 0.3678770065307617\n",
      "Function: predict, Time Delta: 0.0760188102722168\n",
      "Function: predict, Time Delta: 0.009768009185791016\n",
      "Function: get_loss, Time Delta: 0.001550912857055664\n",
      "Function: get_loss, Time Delta: 0.02339005470275879\n",
      "Function: get_loss, Time Delta: 0.0017039775848388672\n",
      "Function: get_loss, Time Delta: 0.003857135772705078\n",
      "Function: train, Time Delta: 0.4101450443267822\n",
      "Function: predict, Time Delta: 0.06548094749450684\n",
      "Function: predict, Time Delta: 0.00971078872680664\n",
      "Function: get_loss, Time Delta: 0.0015909671783447266\n",
      "Function: get_loss, Time Delta: 0.024539947509765625\n",
      "Function: get_loss, Time Delta: 0.0005841255187988281\n",
      "Function: get_loss, Time Delta: 0.004019975662231445\n",
      "Function: train, Time Delta: 0.4153270721435547\n",
      "Function: predict, Time Delta: 0.061524152755737305\n",
      "Function: predict, Time Delta: 0.009674072265625\n",
      "Function: get_loss, Time Delta: 0.001377105712890625\n",
      "Function: get_loss, Time Delta: 0.024061918258666992\n",
      "Function: get_loss, Time Delta: 0.0008478164672851562\n",
      "Function: get_loss, Time Delta: 0.0039942264556884766\n",
      "Function: train, Time Delta: 0.4144861698150635\n",
      "Function: predict, Time Delta: 0.05983781814575195\n",
      "Function: predict, Time Delta: 0.00948190689086914\n",
      "Function: get_loss, Time Delta: 0.0014481544494628906\n",
      "Function: get_loss, Time Delta: 0.022454023361206055\n",
      "Function: get_loss, Time Delta: 0.0003337860107421875\n",
      "Function: get_loss, Time Delta: 0.0037331581115722656\n",
      "Function: train, Time Delta: 0.40703797340393066\n",
      "Function: predict, Time Delta: 0.059654951095581055\n",
      "Function: predict, Time Delta: 0.009421825408935547\n",
      "Function: get_loss, Time Delta: 0.0014030933380126953\n",
      "Function: get_loss, Time Delta: 0.02324080467224121\n",
      "Function: get_loss, Time Delta: 0.0004286766052246094\n",
      "Function: get_loss, Time Delta: 0.003721952438354492\n",
      "Function: train, Time Delta: 0.4109930992126465\n",
      "Function: predict, Time Delta: 0.07117414474487305\n",
      "Function: predict, Time Delta: 0.010694742202758789\n",
      "Function: get_loss, Time Delta: 0.001750946044921875\n",
      "Function: get_loss, Time Delta: 0.023271799087524414\n",
      "Function: get_loss, Time Delta: 0.0022079944610595703\n",
      "Function: get_loss, Time Delta: 0.0038299560546875\n",
      "Function: train, Time Delta: 0.4809558391571045\n",
      "Function: predict, Time Delta: 0.06597018241882324\n",
      "Function: predict, Time Delta: 0.00979304313659668\n",
      "Function: get_loss, Time Delta: 0.0014798641204833984\n",
      "Function: get_loss, Time Delta: 0.02401280403137207\n",
      "Function: get_loss, Time Delta: 0.0005381107330322266\n",
      "Function: get_loss, Time Delta: 0.00402522087097168\n",
      "Function: train, Time Delta: 0.8567149639129639\n",
      "Function: predict, Time Delta: 0.10081195831298828\n",
      "Function: predict, Time Delta: 0.013583898544311523\n",
      "Function: get_loss, Time Delta: 0.003657817840576172\n",
      "Function: get_loss, Time Delta: 0.025151968002319336\n",
      "Function: get_loss, Time Delta: 0.0004329681396484375\n",
      "Function: get_loss, Time Delta: 0.004164934158325195\n",
      "Function: train, Time Delta: 1.6144850254058838\n",
      "Function: predict, Time Delta: 0.14454293251037598\n",
      "Function: predict, Time Delta: 0.01978588104248047\n",
      "Function: get_loss, Time Delta: 0.0014829635620117188\n",
      "Function: get_loss, Time Delta: 0.024493694305419922\n",
      "Function: get_loss, Time Delta: 0.0003218650817871094\n",
      "Function: get_loss, Time Delta: 0.004115104675292969\n",
      "Function: train, Time Delta: 3.2495129108428955\n",
      "Function: predict, Time Delta: 0.24410009384155273\n",
      "Function: predict, Time Delta: 0.03847193717956543\n",
      "Function: get_loss, Time Delta: 0.0015592575073242188\n",
      "Function: get_loss, Time Delta: 0.023541688919067383\n",
      "Function: get_loss, Time Delta: 0.0019969940185546875\n",
      "Function: get_loss, Time Delta: 0.0038950443267822266\n"
     ]
    }
   ],
   "source": [
    "# Run Experiments\n",
    "runner.run()"
   ],
   "metadata": {
    "collapsed": false,
    "pycharm": {
     "is_executing": true
    }
   }
  },
  {
   "cell_type": "code",
   "execution_count": null,
   "outputs": [],
   "source": [
    "# Plot Losses\n",
    "runner.plot_square_loss()"
   ],
   "metadata": {
    "collapsed": false,
    "pycharm": {
     "is_executing": true
    }
   }
  },
  {
   "cell_type": "code",
   "execution_count": null,
   "outputs": [],
   "source": [
    "runner.plot_zero_one_loss()"
   ],
   "metadata": {
    "collapsed": false,
    "pycharm": {
     "is_executing": true
    }
   }
  },
  {
   "cell_type": "code",
   "execution_count": null,
   "outputs": [],
   "source": [],
   "metadata": {
    "collapsed": false,
    "pycharm": {
     "is_executing": true
    }
   }
  }
 ],
 "metadata": {
  "kernelspec": {
   "display_name": "Python 3",
   "language": "python",
   "name": "python3"
  },
  "language_info": {
   "codemirror_mode": {
    "name": "ipython",
    "version": 2
   },
   "file_extension": ".py",
   "mimetype": "text/x-python",
   "name": "python",
   "nbconvert_exporter": "python",
   "pygments_lexer": "ipython2",
   "version": "2.7.6"
  }
 },
 "nbformat": 4,
 "nbformat_minor": 0
}
