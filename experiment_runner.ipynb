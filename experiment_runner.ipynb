{
 "cells": [
  {
   "cell_type": "code",
   "execution_count": 1,
   "metadata": {
    "collapsed": true
   },
   "outputs": [],
   "source": [
    "from biasvariancetradeoff.random_forest import ExperimentRunner, RandomForestWrapper\n",
    "from biasvariancetradeoff.data import get_test, get_train"
   ]
  },
  {
   "cell_type": "code",
   "execution_count": 2,
   "outputs": [],
   "source": [
    "# Get Data\n",
    "test_data = get_test()\n",
    "train_data = get_train()\n"
   ],
   "metadata": {
    "collapsed": false
   }
  },
  {
   "cell_type": "code",
   "execution_count": 3,
   "outputs": [],
   "source": [
    "x_test, y_test = test_data"
   ],
   "metadata": {
    "collapsed": false
   }
  },
  {
   "cell_type": "code",
   "execution_count": 4,
   "outputs": [],
   "source": [
    "row = y_test[0]"
   ],
   "metadata": {
    "collapsed": false
   }
  },
  {
   "cell_type": "code",
   "execution_count": 5,
   "outputs": [
    {
     "data": {
      "text/plain": "7"
     },
     "execution_count": 5,
     "metadata": {},
     "output_type": "execute_result"
    }
   ],
   "source": [
    "row.argmax()"
   ],
   "metadata": {
    "collapsed": false
   }
  },
  {
   "cell_type": "code",
   "execution_count": 10,
   "outputs": [],
   "source": [
    "# Initialize Parameters\n",
    "paper_params = [{\"max_leaf_nodes\":50, \"num_estimators\":1},\n",
    "                {\"max_leaf_nodes\":60, \"num_estimators\":1},\n",
    "                {\"max_leaf_nodes\":70, \"num_estimators\":1},\n",
    "                {\"max_leaf_nodes\":80, \"num_estimators\":1},\n",
    "                {\"max_leaf_nodes\":90, \"num_estimators\":1},\n",
    "                {\"max_leaf_nodes\":100, \"num_estimators\":1},\n",
    "                {\"max_leaf_nodes\":120, \"num_estimators\":1},\n",
    "                {\"max_leaf_nodes\":140, \"num_estimators\":1},\n",
    "               {\"max_leaf_nodes\":160, \"num_estimators\":1},\n",
    "               {\"max_leaf_nodes\":180, \"num_estimators\":1},\n",
    "               {\"max_leaf_nodes\":200, \"num_estimators\":1},\n",
    "               {\"max_leaf_nodes\":250, \"num_estimators\":1},\n",
    "               {\"max_leaf_nodes\":300, \"num_estimators\":1},\n",
    "               {\"max_leaf_nodes\":350, \"num_estimators\":1},\n",
    "               {\"max_leaf_nodes\":400, \"num_estimators\":1},\n",
    "               {\"max_leaf_nodes\":500, \"num_estimators\":1},\n",
    "               {\"max_leaf_nodes\":600, \"num_estimators\":1},\n",
    "               {\"max_leaf_nodes\":700, \"num_estimators\":1},\n",
    "               {\"max_leaf_nodes\":800, \"num_estimators\":1},\n",
    "               {\"max_leaf_nodes\":900, \"num_estimators\":1},\n",
    "               {\"max_leaf_nodes\":1000, \"num_estimators\":1},\n",
    "               {\"max_leaf_nodes\":2000, \"num_estimators\":1},\n",
    "               {\"max_leaf_nodes\":2000, \"num_estimators\":2},\n",
    "               {\"max_leaf_nodes\":2000, \"num_estimators\":4},\n",
    "               {\"max_leaf_nodes\":2000, \"num_estimators\":8},\n",
    "               {\"max_leaf_nodes\":2000, \"num_estimators\":16},\n",
    "                {\"max_leaf_nodes\":4000, \"num_estimators\":16},]\n",
    "\n",
    "# Instantiate Experiment Runner\n",
    "runner = ExperimentRunner(RandomForestWrapper, paper_params, train_data, test_data)"
   ],
   "metadata": {
    "collapsed": false
   }
  },
  {
   "cell_type": "code",
   "execution_count": null,
   "outputs": [
    {
     "name": "stdout",
     "output_type": "stream",
     "text": [
      "Function: train, Time Delta: 0.2676279544830322\n",
      "Function: predict, Time Delta: 0.06499314308166504\n",
      "Function: predict, Time Delta: 0.010812044143676758\n",
      "Function: get_loss, Time Delta: 0.0016717910766601562\n",
      "Function: get_loss, Time Delta: 0.02401280403137207\n",
      "Function: get_loss, Time Delta: 0.002279996871948242\n",
      "Function: get_loss, Time Delta: 0.003981113433837891\n",
      "Function: train, Time Delta: 0.2819631099700928\n",
      "Function: predict, Time Delta: 0.06435918807983398\n",
      "Function: predict, Time Delta: 0.01141810417175293\n",
      "Function: get_loss, Time Delta: 0.0014548301696777344\n",
      "Function: get_loss, Time Delta: 0.025376081466674805\n",
      "Function: get_loss, Time Delta: 0.0031599998474121094\n",
      "Function: get_loss, Time Delta: 0.004261016845703125\n",
      "Function: train, Time Delta: 0.3027961254119873\n",
      "Function: predict, Time Delta: 0.06065678596496582\n",
      "Function: predict, Time Delta: 0.010383844375610352\n",
      "Function: get_loss, Time Delta: 0.0014421939849853516\n",
      "Function: get_loss, Time Delta: 0.025360822677612305\n",
      "Function: get_loss, Time Delta: 0.0015926361083984375\n",
      "Function: get_loss, Time Delta: 0.005537986755371094\n",
      "Function: train, Time Delta: 0.33794617652893066\n",
      "Function: predict, Time Delta: 0.0789942741394043\n",
      "Function: predict, Time Delta: 0.016075849533081055\n",
      "Function: get_loss, Time Delta: 0.0017879009246826172\n",
      "Function: get_loss, Time Delta: 0.026253700256347656\n",
      "Function: get_loss, Time Delta: 0.0017731189727783203\n",
      "Function: get_loss, Time Delta: 0.004279136657714844\n",
      "Function: train, Time Delta: 0.302778959274292\n",
      "Function: predict, Time Delta: 0.07558178901672363\n",
      "Function: predict, Time Delta: 0.012221097946166992\n",
      "Function: get_loss, Time Delta: 0.001528024673461914\n",
      "Function: get_loss, Time Delta: 0.025095224380493164\n",
      "Function: get_loss, Time Delta: 0.002298116683959961\n",
      "Function: get_loss, Time Delta: 0.004147052764892578\n",
      "Function: train, Time Delta: 0.302933931350708\n",
      "Function: predict, Time Delta: 0.05962014198303223\n",
      "Function: predict, Time Delta: 0.010124921798706055\n",
      "Function: get_loss, Time Delta: 0.0013709068298339844\n",
      "Function: get_loss, Time Delta: 0.02420806884765625\n",
      "Function: get_loss, Time Delta: 0.000347137451171875\n",
      "Function: get_loss, Time Delta: 0.004010915756225586\n",
      "Function: train, Time Delta: 0.31305503845214844\n",
      "Function: predict, Time Delta: 0.06638216972351074\n",
      "Function: predict, Time Delta: 0.009044885635375977\n",
      "Function: get_loss, Time Delta: 0.0014348030090332031\n",
      "Function: get_loss, Time Delta: 0.025077104568481445\n",
      "Function: get_loss, Time Delta: 0.0022127628326416016\n",
      "Function: get_loss, Time Delta: 0.004167079925537109\n",
      "Function: train, Time Delta: 0.3165550231933594\n",
      "Function: predict, Time Delta: 0.06725502014160156\n",
      "Function: predict, Time Delta: 0.010661125183105469\n",
      "Function: get_loss, Time Delta: 0.001421213150024414\n",
      "Function: get_loss, Time Delta: 0.02450704574584961\n",
      "Function: get_loss, Time Delta: 0.0014429092407226562\n",
      "Function: get_loss, Time Delta: 0.004046916961669922\n",
      "Function: train, Time Delta: 0.3231532573699951\n",
      "Function: predict, Time Delta: 0.06079506874084473\n",
      "Function: predict, Time Delta: 0.011106252670288086\n",
      "Function: get_loss, Time Delta: 0.0015017986297607422\n",
      "Function: get_loss, Time Delta: 0.024274826049804688\n",
      "Function: get_loss, Time Delta: 0.001585245132446289\n",
      "Function: get_loss, Time Delta: 0.00407719612121582\n",
      "Function: train, Time Delta: 0.34818387031555176\n",
      "Function: predict, Time Delta: 0.06317424774169922\n",
      "Function: predict, Time Delta: 0.009093046188354492\n",
      "Function: get_loss, Time Delta: 0.0014750957489013672\n",
      "Function: get_loss, Time Delta: 0.024248838424682617\n",
      "Function: get_loss, Time Delta: 0.0020089149475097656\n",
      "Function: get_loss, Time Delta: 0.003983020782470703\n",
      "Function: train, Time Delta: 0.34659504890441895\n",
      "Function: predict, Time Delta: 0.06556391716003418\n",
      "Function: predict, Time Delta: 0.009530067443847656\n",
      "Function: get_loss, Time Delta: 0.0031278133392333984\n",
      "Function: get_loss, Time Delta: 0.024087190628051758\n",
      "Function: get_loss, Time Delta: 0.0019788742065429688\n",
      "Function: get_loss, Time Delta: 0.004015207290649414\n",
      "Function: train, Time Delta: 0.3597450256347656\n",
      "Function: predict, Time Delta: 0.06198883056640625\n",
      "Function: predict, Time Delta: 0.009321928024291992\n",
      "Function: get_loss, Time Delta: 0.0014388561248779297\n",
      "Function: get_loss, Time Delta: 0.02411198616027832\n",
      "Function: get_loss, Time Delta: 0.0020780563354492188\n",
      "Function: get_loss, Time Delta: 0.004003763198852539\n",
      "Function: train, Time Delta: 0.37775397300720215\n",
      "Function: predict, Time Delta: 0.0757589340209961\n",
      "Function: predict, Time Delta: 0.012219905853271484\n",
      "Function: get_loss, Time Delta: 0.0016071796417236328\n",
      "Function: get_loss, Time Delta: 0.02317190170288086\n",
      "Function: get_loss, Time Delta: 0.002235889434814453\n",
      "Function: get_loss, Time Delta: 0.003931760787963867\n",
      "Function: train, Time Delta: 0.3584449291229248\n",
      "Function: predict, Time Delta: 0.0656428337097168\n",
      "Function: predict, Time Delta: 0.009826183319091797\n",
      "Function: get_loss, Time Delta: 0.001432657241821289\n",
      "Function: get_loss, Time Delta: 0.024483203887939453\n",
      "Function: get_loss, Time Delta: 0.0005352497100830078\n",
      "Function: get_loss, Time Delta: 0.00406193733215332\n",
      "Function: train, Time Delta: 0.37678980827331543\n",
      "Function: predict, Time Delta: 0.06571698188781738\n",
      "Function: predict, Time Delta: 0.009498119354248047\n",
      "Function: get_loss, Time Delta: 0.001672983169555664\n",
      "Function: get_loss, Time Delta: 0.025046825408935547\n",
      "Function: get_loss, Time Delta: 0.0004830360412597656\n",
      "Function: get_loss, Time Delta: 0.004252195358276367\n",
      "Function: train, Time Delta: 0.3923521041870117\n",
      "Function: predict, Time Delta: 0.06777691841125488\n",
      "Function: predict, Time Delta: 0.011779069900512695\n",
      "Function: get_loss, Time Delta: 0.00160980224609375\n",
      "Function: get_loss, Time Delta: 0.02412700653076172\n",
      "Function: get_loss, Time Delta: 0.00045108795166015625\n",
      "Function: get_loss, Time Delta: 0.003945827484130859\n",
      "Function: train, Time Delta: 0.4152870178222656\n",
      "Function: predict, Time Delta: 0.06725287437438965\n",
      "Function: predict, Time Delta: 0.009414196014404297\n",
      "Function: get_loss, Time Delta: 0.0015039443969726562\n",
      "Function: get_loss, Time Delta: 0.02646493911743164\n",
      "Function: get_loss, Time Delta: 0.0011029243469238281\n",
      "Function: get_loss, Time Delta: 0.004266023635864258\n",
      "Function: train, Time Delta: 0.42708706855773926\n",
      "Function: predict, Time Delta: 0.06701087951660156\n",
      "Function: predict, Time Delta: 0.009523868560791016\n",
      "Function: get_loss, Time Delta: 0.0014977455139160156\n",
      "Function: get_loss, Time Delta: 0.024974822998046875\n",
      "Function: get_loss, Time Delta: 0.0021140575408935547\n",
      "Function: get_loss, Time Delta: 0.004128694534301758\n",
      "Function: train, Time Delta: 0.4347209930419922\n",
      "Function: predict, Time Delta: 0.06881523132324219\n",
      "Function: predict, Time Delta: 0.016343116760253906\n",
      "Function: get_loss, Time Delta: 0.001847982406616211\n",
      "Function: get_loss, Time Delta: 0.0253908634185791\n",
      "Function: get_loss, Time Delta: 0.0021800994873046875\n",
      "Function: get_loss, Time Delta: 0.004103899002075195\n",
      "Function: train, Time Delta: 0.42513203620910645\n",
      "Function: predict, Time Delta: 0.07181215286254883\n",
      "Function: predict, Time Delta: 0.009524822235107422\n",
      "Function: get_loss, Time Delta: 0.0015969276428222656\n",
      "Function: get_loss, Time Delta: 0.024801015853881836\n",
      "Function: get_loss, Time Delta: 0.00044918060302734375\n",
      "Function: get_loss, Time Delta: 0.004218101501464844\n",
      "Function: train, Time Delta: 0.4314539432525635\n",
      "Function: predict, Time Delta: 0.07042598724365234\n",
      "Function: predict, Time Delta: 0.011182785034179688\n",
      "Function: get_loss, Time Delta: 0.0018138885498046875\n",
      "Function: get_loss, Time Delta: 0.023384809494018555\n",
      "Function: get_loss, Time Delta: 0.0003910064697265625\n",
      "Function: get_loss, Time Delta: 0.0040187835693359375\n",
      "Function: train, Time Delta: 0.47577381134033203\n",
      "Function: predict, Time Delta: 0.07171106338500977\n",
      "Function: predict, Time Delta: 0.011165142059326172\n",
      "Function: get_loss, Time Delta: 0.0017657279968261719\n",
      "Function: get_loss, Time Delta: 0.02475285530090332\n",
      "Function: get_loss, Time Delta: 0.0020520687103271484\n",
      "Function: get_loss, Time Delta: 0.0041751861572265625\n",
      "Function: train, Time Delta: 0.9226160049438477\n",
      "Function: predict, Time Delta: 0.09624600410461426\n",
      "Function: predict, Time Delta: 0.013002872467041016\n",
      "Function: get_loss, Time Delta: 0.0015859603881835938\n",
      "Function: get_loss, Time Delta: 0.025084972381591797\n",
      "Function: get_loss, Time Delta: 0.0018749237060546875\n",
      "Function: get_loss, Time Delta: 0.004094839096069336\n",
      "Function: train, Time Delta: 1.7374327182769775\n",
      "Function: predict, Time Delta: 0.1390092372894287\n",
      "Function: predict, Time Delta: 0.030894041061401367\n",
      "Function: get_loss, Time Delta: 0.0016372203826904297\n",
      "Function: get_loss, Time Delta: 0.024165868759155273\n",
      "Function: get_loss, Time Delta: 0.002039194107055664\n",
      "Function: get_loss, Time Delta: 0.0046520233154296875\n",
      "Function: train, Time Delta: 3.386998176574707\n",
      "Function: predict, Time Delta: 0.24006080627441406\n",
      "Function: predict, Time Delta: 0.036260128021240234\n",
      "Function: get_loss, Time Delta: 0.001483917236328125\n",
      "Function: get_loss, Time Delta: 0.024740934371948242\n",
      "Function: get_loss, Time Delta: 0.0004992485046386719\n",
      "Function: get_loss, Time Delta: 0.004103899002075195\n",
      "Function: train, Time Delta: 6.645991086959839\n",
      "Function: predict, Time Delta: 0.4627690315246582\n",
      "Function: predict, Time Delta: 0.062460899353027344\n",
      "Function: get_loss, Time Delta: 0.001481771469116211\n",
      "Function: get_loss, Time Delta: 0.02430891990661621\n",
      "Function: get_loss, Time Delta: 0.000576019287109375\n",
      "Function: get_loss, Time Delta: 0.0040340423583984375\n"
     ]
    }
   ],
   "source": [
    "# Run Experiments\n",
    "runner.run()"
   ],
   "metadata": {
    "collapsed": false,
    "pycharm": {
     "is_executing": true
    }
   }
  },
  {
   "cell_type": "code",
   "execution_count": null,
   "outputs": [],
   "source": [
    "# Plot Losses\n",
    "runner.plot_square_loss()"
   ],
   "metadata": {
    "collapsed": false,
    "pycharm": {
     "is_executing": true
    }
   }
  },
  {
   "cell_type": "code",
   "execution_count": null,
   "outputs": [],
   "source": [
    "runner.plot_zero_one_loss()"
   ],
   "metadata": {
    "collapsed": false,
    "pycharm": {
     "is_executing": true
    }
   }
  },
  {
   "cell_type": "code",
   "execution_count": 9,
   "outputs": [],
   "source": [],
   "metadata": {
    "collapsed": false
   }
  }
 ],
 "metadata": {
  "kernelspec": {
   "display_name": "Python 3",
   "language": "python",
   "name": "python3"
  },
  "language_info": {
   "codemirror_mode": {
    "name": "ipython",
    "version": 2
   },
   "file_extension": ".py",
   "mimetype": "text/x-python",
   "name": "python",
   "nbconvert_exporter": "python",
   "pygments_lexer": "ipython2",
   "version": "2.7.6"
  }
 },
 "nbformat": 4,
 "nbformat_minor": 0
}
